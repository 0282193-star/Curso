{
 "cells": [
  {
   "cell_type": "markdown",
   "id": "5480111b",
   "metadata": {},
   "source": [
    "\n",
    "# <span style=\"font-family:Georgia; text-align:center;\">¿Qué es un [algoritmo](https://es.wikipedia.org/wiki/Algoritmo)?</span> \n",
    "\n",
    "<span style=\"font-family:Georgia;\">\n",
    "\n",
    "\n",
    "Un algoritmo es *“una secuencia finita de instrucciones estrictamente definidas que describen de forma precisa las operaciones a realizar para resolver un problema en un tiempo también finito”* .\n",
    "\n",
    " De esta definición se desprenden sus propiedades clásicas:\n",
    "\n",
    "- **Finitud**: termina tras un número acotado de pasos.\n",
    "\n",
    "- **Precisión (no ambigüedad)**: cada paso es claro e interpretable sin dudas.\n",
    "\n",
    "- **Entrada y salida bien definidas**: recibe datos (input) y produce resultados (output). Si se sigue dos veces, obtiene el mismo resultado.\n",
    "\n",
    "- **Efectividad**: cada paso es ejecutable con los recursos disponibles.\n",
    "\n",
    "\n",
    "# <span style=\"font-family:Georgia;\">Diseño de [algoritmos](https://en.wikipedia.org/wiki/Algorithm)</span> \n",
    "\n",
    "\n",
    "El diseño de algoritmos es la disciplina que estudia cómo concebir, analizar y formalizar esos pasos para que, además de correctos, sean eficientes en tiempo y memoria."
   ]
  },
  {
   "cell_type": "markdown",
   "id": "77a7474f",
   "metadata": {},
   "source": [
    "# <span style=\"font-family:Georgia; text-align:center;\">Fases en la resolución de problemas</span> \n",
    "<span style=\"font-family:Georgia;\">\n",
    "\n",
    "\n",
    "| Fase                                 | Objetivo principal                                                                                             | Medios usuales                                                         |\n",
    "| ------------------------------------ | -------------------------------------------------------------------------------------------------------------- | ------------------------------------------------------------------------- |\n",
    "| **1. Análisis del problema**         | Comprender requisitos, entradas, salidas y restricciones                                                       | Especificación o *requirements*                    |\n",
    "| **2. Diseño del algoritmo**          | Idear la estrategia, elegir [estructuras de datos](https://es.wikipedia.org/wiki/Estructura_de_datos) y plasmar el procedimiento  | [Pseudocódigo](https://es.wikipedia.org/wiki/Pseudoc%C3%B3digo), [diagramas  de flujo](https://es.wikipedia.org/wiki/Diagrama_de_flujo), estimación de complejidad  |\n",
    "| **3. Implementación (codificación)** | Traducir el diseño a un lenguaje de programación concreto ([Python](https://es.wikipedia.org/wiki/Python))                                                     | Código fuente                   |\n",
    "| **4. Pruebas y verificación**        | Comprobar corrección y depurar errores                                                                         | Casos de prueba, pruebas unitarias                       |\n",
    "| **5. Evaluación y optimización**     | Medir rendimiento y, si es preciso, refinar el algoritmo o los datos                                           | Perfil de eficiencia, versiones optimizadas         |\n",
    "| **6. Documentación y mantenimiento** | Facilitar la comprensión futura y la adaptación a nuevos requisitos                                            | Comentarios, manuales, historial de cambios        |"
   ]
  },
  {
   "cell_type": "markdown",
   "id": "8e19572f",
   "metadata": {},
   "source": [
    "# <span style=\"font-family:Georgia; text-align:center;\">Bibliografía</span> \n",
    "<span style=\"font-family:Georgia;\">\n",
    "\n",
    "- Cormen, T. H. Algorithms Unlocked. MIT Press, 2013.\n",
    "\n",
    "- Skiena, S. The Algorithm Design Manual. Springer, 2020.\n",
    "\n",
    "- Knuth, D. E. The Art of Computer Programming, Vol. 1, 3ª ed., Addison-Wesley, 1997.\n",
    "\n",
    "- Pólya, G., Conway, J. H. (2004). How to solve it. Princeton [N.J.]: Princeton University Press. \n",
    "\n",
    "- ​Luis Joyanes Aguilar. (2008). Fundamentos de Programacion. Madrid: MC CREW HILL."
   ]
  }
 ],
 "metadata": {
  "language_info": {
   "name": "python"
  }
 },
 "nbformat": 4,
 "nbformat_minor": 5
}
